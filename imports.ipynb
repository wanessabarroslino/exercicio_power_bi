{
 "cells": [
  {
   "cell_type": "code",
   "execution_count": 7,
   "id": "5f33fb79",
   "metadata": {},
   "outputs": [
    {
     "name": "stdout",
     "output_type": "stream",
     "text": [
      "                         movie_title release_date      genre mpaa_rating  \\\n",
      "0    Snow White and the Seven Dwarfs   1937-12-21    Musical           G   \n",
      "1                          Pinocchio   1940-02-09  Adventure           G   \n",
      "2                           Fantasia   1940-11-13    Musical           G   \n",
      "3                  Song of the South   1946-11-12  Adventure           G   \n",
      "4                         Cinderella   1950-02-15      Drama           G   \n",
      "..                               ...          ...        ...         ...   \n",
      "574         The Light Between Oceans   2016-09-02      Drama       PG-13   \n",
      "575                   Queen of Katwe   2016-09-23      Drama          PG   \n",
      "576                   Doctor Strange   2016-11-04  Adventure       PG-13   \n",
      "577                            Moana   2016-11-23  Adventure          PG   \n",
      "578     Rogue One: A Star Wars Story   2016-12-16  Adventure       PG-13   \n",
      "\n",
      "     total_gross  inflation_adjusted_gross  \n",
      "0      184925485                5228953251  \n",
      "1       84300000                2188229052  \n",
      "2       83320000                2187090808  \n",
      "3       65000000                1078510579  \n",
      "4       85000000                 920608730  \n",
      "..           ...                       ...  \n",
      "574     12545979                  12545979  \n",
      "575      8874389                   8874389  \n",
      "576    232532923                 232532923  \n",
      "577    246082029                 246082029  \n",
      "578    529483936                 529483936  \n",
      "\n",
      "[579 rows x 6 columns]\n"
     ]
    }
   ],
   "source": [
    "import pandas as pd\n",
    "df = pd.read_csv('disney_movies.csv')\n",
    "\n",
    "df['release_date'] = pd.to_datetime(df['release_date'])\n",
    "df['total_gross'] = pd.to_numeric(df['total_gross'])\n",
    "df['inflation_adjusted_gross'] = pd.to_numeric(df['inflation_adjusted_gross'])\n",
    "\n",
    "print(df)\n"
   ]
  },
  {
   "cell_type": "code",
   "execution_count": null,
   "id": "b762db84",
   "metadata": {},
   "outputs": [],
   "source": []
  },
  {
   "cell_type": "code",
   "execution_count": null,
   "id": "295a6c6d",
   "metadata": {},
   "outputs": [],
   "source": []
  }
 ],
 "metadata": {
  "kernelspec": {
   "display_name": "Python 3",
   "language": "python",
   "name": "python3"
  },
  "language_info": {
   "codemirror_mode": {
    "name": "ipython",
    "version": 3
   },
   "file_extension": ".py",
   "mimetype": "text/x-python",
   "name": "python",
   "nbconvert_exporter": "python",
   "pygments_lexer": "ipython3",
   "version": "3.8.0"
  },
  "vscode": {
   "interpreter": {
    "hash": "141e0cd95fb61b13133607bef3a6d0463f9ed3c1c80e3a647158b79885f5bcbf"
   }
  }
 },
 "nbformat": 4,
 "nbformat_minor": 5
}
